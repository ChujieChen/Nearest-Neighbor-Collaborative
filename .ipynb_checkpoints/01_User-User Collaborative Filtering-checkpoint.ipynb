{
 "cells": [
  {
   "cell_type": "markdown",
   "id": "minute-jordan",
   "metadata": {},
   "source": [
    "# User-User Collaborative Filtering"
   ]
  },
  {
   "cell_type": "markdown",
   "id": "obvious-local",
   "metadata": {},
   "source": [
    "## Part 1 - Without Normalization"
   ]
  },
  {
   "cell_type": "code",
   "execution_count": 1,
   "id": "bridal-office",
   "metadata": {},
   "outputs": [],
   "source": [
    "import numpy as np\n",
    "import pandas as pd"
   ]
  },
  {
   "cell_type": "code",
   "execution_count": 2,
   "id": "beautiful-january",
   "metadata": {},
   "outputs": [],
   "source": [
    "movie_row = pd.read_csv(\"data/UUCF Assignment Spreadsheet.xls - movie-row.csv\")\n",
    "user_row = pd.read_csv(\"data/UUCF Assignment Spreadsheet.xls - user-row.csv\")\n",
    "correlations = pd.read_csv(\"data/UUCF Assignment Spreadsheet.xls - correlations.csv\")\n",
    "movie_row.rename(columns={'Unnamed: 0':'movie'}, inplace=True)\n",
    "user_row.rename(columns={'Unnamed: 0':'user_id'}, inplace=True)\n",
    "correlations.rename(columns={'Unnamed: 0':'user_id'}, inplace=True)\n",
    "movie_row.set_index('movie', inplace=True)\n",
    "user_row.set_index('user_id', inplace=True)\n",
    "correlations.set_index('user_id', inplace=True)"
   ]
  },
  {
   "cell_type": "code",
   "execution_count": 3,
   "id": "stainless-rainbow",
   "metadata": {},
   "outputs": [
    {
     "data": {
      "text/html": [
       "<div>\n",
       "<style scoped>\n",
       "    .dataframe tbody tr th:only-of-type {\n",
       "        vertical-align: middle;\n",
       "    }\n",
       "\n",
       "    .dataframe tbody tr th {\n",
       "        vertical-align: top;\n",
       "    }\n",
       "\n",
       "    .dataframe thead th {\n",
       "        text-align: right;\n",
       "    }\n",
       "</style>\n",
       "<table border=\"1\" class=\"dataframe\">\n",
       "  <thead>\n",
       "    <tr style=\"text-align: right;\">\n",
       "      <th></th>\n",
       "      <th>1648</th>\n",
       "      <th>5136</th>\n",
       "      <th>918</th>\n",
       "      <th>2824</th>\n",
       "      <th>3867</th>\n",
       "      <th>860</th>\n",
       "      <th>3712</th>\n",
       "      <th>2968</th>\n",
       "      <th>3525</th>\n",
       "      <th>4323</th>\n",
       "      <th>...</th>\n",
       "      <th>3556</th>\n",
       "      <th>5261</th>\n",
       "      <th>2492</th>\n",
       "      <th>5062</th>\n",
       "      <th>2486</th>\n",
       "      <th>4942</th>\n",
       "      <th>2267</th>\n",
       "      <th>4809</th>\n",
       "      <th>3853</th>\n",
       "      <th>2288</th>\n",
       "    </tr>\n",
       "    <tr>\n",
       "      <th>movie</th>\n",
       "      <th></th>\n",
       "      <th></th>\n",
       "      <th></th>\n",
       "      <th></th>\n",
       "      <th></th>\n",
       "      <th></th>\n",
       "      <th></th>\n",
       "      <th></th>\n",
       "      <th></th>\n",
       "      <th></th>\n",
       "      <th></th>\n",
       "      <th></th>\n",
       "      <th></th>\n",
       "      <th></th>\n",
       "      <th></th>\n",
       "      <th></th>\n",
       "      <th></th>\n",
       "      <th></th>\n",
       "      <th></th>\n",
       "      <th></th>\n",
       "      <th></th>\n",
       "    </tr>\n",
       "  </thead>\n",
       "  <tbody>\n",
       "    <tr>\n",
       "      <th>11: Star Wars: Episode IV - A New Hope (1977)</th>\n",
       "      <td>NaN</td>\n",
       "      <td>4.5</td>\n",
       "      <td>5.0</td>\n",
       "      <td>4.5</td>\n",
       "      <td>4.0</td>\n",
       "      <td>4.0</td>\n",
       "      <td>NaN</td>\n",
       "      <td>5.0</td>\n",
       "      <td>4.0</td>\n",
       "      <td>5.0</td>\n",
       "      <td>...</td>\n",
       "      <td>4.0</td>\n",
       "      <td>NaN</td>\n",
       "      <td>4.5</td>\n",
       "      <td>4.0</td>\n",
       "      <td>3.5</td>\n",
       "      <td>NaN</td>\n",
       "      <td>NaN</td>\n",
       "      <td>NaN</td>\n",
       "      <td>NaN</td>\n",
       "      <td>NaN</td>\n",
       "    </tr>\n",
       "  </tbody>\n",
       "</table>\n",
       "<p>1 rows × 25 columns</p>\n",
       "</div>"
      ],
      "text/plain": [
       "                                               1648  5136  918  2824  3867  \\\n",
       "movie                                                                        \n",
       "11: Star Wars: Episode IV - A New Hope (1977)   NaN   4.5  5.0   4.5   4.0   \n",
       "\n",
       "                                               860  3712  2968  3525  4323  \\\n",
       "movie                                                                        \n",
       "11: Star Wars: Episode IV - A New Hope (1977)  4.0   NaN   5.0   4.0   5.0   \n",
       "\n",
       "                                               ...  3556  5261  2492  5062  \\\n",
       "movie                                          ...                           \n",
       "11: Star Wars: Episode IV - A New Hope (1977)  ...   4.0   NaN   4.5   4.0   \n",
       "\n",
       "                                               2486  4942  2267  4809  3853  \\\n",
       "movie                                                                         \n",
       "11: Star Wars: Episode IV - A New Hope (1977)   3.5   NaN   NaN   NaN   NaN   \n",
       "\n",
       "                                               2288  \n",
       "movie                                                \n",
       "11: Star Wars: Episode IV - A New Hope (1977)   NaN  \n",
       "\n",
       "[1 rows x 25 columns]"
      ]
     },
     "execution_count": 3,
     "metadata": {},
     "output_type": "execute_result"
    }
   ],
   "source": [
    "movie_row.head(1)"
   ]
  },
  {
   "cell_type": "code",
   "execution_count": 4,
   "id": "prepared-entry",
   "metadata": {},
   "outputs": [
    {
     "data": {
      "text/html": [
       "<div>\n",
       "<style scoped>\n",
       "    .dataframe tbody tr th:only-of-type {\n",
       "        vertical-align: middle;\n",
       "    }\n",
       "\n",
       "    .dataframe tbody tr th {\n",
       "        vertical-align: top;\n",
       "    }\n",
       "\n",
       "    .dataframe thead th {\n",
       "        text-align: right;\n",
       "    }\n",
       "</style>\n",
       "<table border=\"1\" class=\"dataframe\">\n",
       "  <thead>\n",
       "    <tr style=\"text-align: right;\">\n",
       "      <th></th>\n",
       "      <th>11: Star Wars: Episode IV - A New Hope (1977)</th>\n",
       "      <th>12: Finding Nemo (2003)</th>\n",
       "      <th>13: Forrest Gump (1994)</th>\n",
       "      <th>14: American Beauty (1999)</th>\n",
       "      <th>22: Pirates of the Caribbean: The Curse of the Black Pearl (2003)</th>\n",
       "      <th>24: Kill Bill: Vol. 1 (2003)</th>\n",
       "      <th>38: Eternal Sunshine of the Spotless Mind (2004)</th>\n",
       "      <th>63: Twelve Monkeys (a.k.a. 12 Monkeys) (1995)</th>\n",
       "      <th>77: Memento (2000)</th>\n",
       "      <th>85: Raiders of the Lost Ark (Indiana Jones and the Raiders of the Lost Ark) (1981)</th>\n",
       "      <th>...</th>\n",
       "      <th>8467: Dumb &amp; Dumber (1994)</th>\n",
       "      <th>8587: The Lion King (1994)</th>\n",
       "      <th>9331: Clear and Present Danger (1994)</th>\n",
       "      <th>9741: Unbreakable (2000)</th>\n",
       "      <th>9802: The Rock (1996)</th>\n",
       "      <th>9806: The Incredibles (2004)</th>\n",
       "      <th>10020: Beauty and the Beast (1991)</th>\n",
       "      <th>36657: X-Men (2000)</th>\n",
       "      <th>36658: X2: X-Men United (2003)</th>\n",
       "      <th>36955: True Lies (1994)</th>\n",
       "    </tr>\n",
       "    <tr>\n",
       "      <th>user_id</th>\n",
       "      <th></th>\n",
       "      <th></th>\n",
       "      <th></th>\n",
       "      <th></th>\n",
       "      <th></th>\n",
       "      <th></th>\n",
       "      <th></th>\n",
       "      <th></th>\n",
       "      <th></th>\n",
       "      <th></th>\n",
       "      <th></th>\n",
       "      <th></th>\n",
       "      <th></th>\n",
       "      <th></th>\n",
       "      <th></th>\n",
       "      <th></th>\n",
       "      <th></th>\n",
       "      <th></th>\n",
       "      <th></th>\n",
       "      <th></th>\n",
       "      <th></th>\n",
       "    </tr>\n",
       "  </thead>\n",
       "  <tbody>\n",
       "    <tr>\n",
       "      <th>1648</th>\n",
       "      <td>NaN</td>\n",
       "      <td>NaN</td>\n",
       "      <td>NaN</td>\n",
       "      <td>NaN</td>\n",
       "      <td>4.0</td>\n",
       "      <td>3.0</td>\n",
       "      <td>NaN</td>\n",
       "      <td>NaN</td>\n",
       "      <td>NaN</td>\n",
       "      <td>NaN</td>\n",
       "      <td>...</td>\n",
       "      <td>NaN</td>\n",
       "      <td>4.0</td>\n",
       "      <td>NaN</td>\n",
       "      <td>NaN</td>\n",
       "      <td>5.0</td>\n",
       "      <td>3.5</td>\n",
       "      <td>3.0</td>\n",
       "      <td>NaN</td>\n",
       "      <td>3.5</td>\n",
       "      <td>NaN</td>\n",
       "    </tr>\n",
       "  </tbody>\n",
       "</table>\n",
       "<p>1 rows × 100 columns</p>\n",
       "</div>"
      ],
      "text/plain": [
       "         11: Star Wars: Episode IV - A New Hope (1977)  \\\n",
       "user_id                                                  \n",
       "1648                                               NaN   \n",
       "\n",
       "         12: Finding Nemo (2003)  13: Forrest Gump (1994)  \\\n",
       "user_id                                                     \n",
       "1648                         NaN                      NaN   \n",
       "\n",
       "         14: American Beauty (1999)  \\\n",
       "user_id                               \n",
       "1648                            NaN   \n",
       "\n",
       "         22: Pirates of the Caribbean: The Curse of the Black Pearl (2003)  \\\n",
       "user_id                                                                      \n",
       "1648                                                   4.0                   \n",
       "\n",
       "         24: Kill Bill: Vol. 1 (2003)  \\\n",
       "user_id                                 \n",
       "1648                              3.0   \n",
       "\n",
       "         38: Eternal Sunshine of the Spotless Mind (2004)  \\\n",
       "user_id                                                     \n",
       "1648                                                  NaN   \n",
       "\n",
       "         63: Twelve Monkeys (a.k.a. 12 Monkeys) (1995)  77: Memento (2000)  \\\n",
       "user_id                                                                      \n",
       "1648                                               NaN                 NaN   \n",
       "\n",
       "         85: Raiders of the Lost Ark (Indiana Jones and the Raiders of the Lost Ark) (1981)  \\\n",
       "user_id                                                                                       \n",
       "1648                                                   NaN                                    \n",
       "\n",
       "         ...  8467: Dumb & Dumber (1994)  8587: The Lion King (1994)  \\\n",
       "user_id  ...                                                           \n",
       "1648     ...                         NaN                         4.0   \n",
       "\n",
       "         9331: Clear and Present Danger (1994)  9741: Unbreakable (2000)  \\\n",
       "user_id                                                                    \n",
       "1648                                       NaN                       NaN   \n",
       "\n",
       "         9802: The Rock (1996)  9806: The Incredibles (2004)  \\\n",
       "user_id                                                        \n",
       "1648                       5.0                           3.5   \n",
       "\n",
       "         10020: Beauty and the Beast (1991)  36657: X-Men (2000)  \\\n",
       "user_id                                                            \n",
       "1648                                    3.0                  NaN   \n",
       "\n",
       "         36658: X2: X-Men United (2003)  36955: True Lies (1994)  \n",
       "user_id                                                           \n",
       "1648                                3.5                      NaN  \n",
       "\n",
       "[1 rows x 100 columns]"
      ]
     },
     "execution_count": 4,
     "metadata": {},
     "output_type": "execute_result"
    }
   ],
   "source": [
    "user_row.head(1)"
   ]
  },
  {
   "cell_type": "code",
   "execution_count": 5,
   "id": "charitable-cardiff",
   "metadata": {},
   "outputs": [
    {
     "data": {
      "text/html": [
       "<div>\n",
       "<style scoped>\n",
       "    .dataframe tbody tr th:only-of-type {\n",
       "        vertical-align: middle;\n",
       "    }\n",
       "\n",
       "    .dataframe tbody tr th {\n",
       "        vertical-align: top;\n",
       "    }\n",
       "\n",
       "    .dataframe thead th {\n",
       "        text-align: right;\n",
       "    }\n",
       "</style>\n",
       "<table border=\"1\" class=\"dataframe\">\n",
       "  <thead>\n",
       "    <tr style=\"text-align: right;\">\n",
       "      <th></th>\n",
       "      <th>1648</th>\n",
       "      <th>5136</th>\n",
       "      <th>918</th>\n",
       "      <th>2824</th>\n",
       "      <th>3867</th>\n",
       "      <th>860</th>\n",
       "      <th>3712</th>\n",
       "      <th>2968</th>\n",
       "      <th>3525</th>\n",
       "      <th>4323</th>\n",
       "      <th>...</th>\n",
       "      <th>3556</th>\n",
       "      <th>5261</th>\n",
       "      <th>2492</th>\n",
       "      <th>5062</th>\n",
       "      <th>2486</th>\n",
       "      <th>4942</th>\n",
       "      <th>2267</th>\n",
       "      <th>4809</th>\n",
       "      <th>3853</th>\n",
       "      <th>2288</th>\n",
       "    </tr>\n",
       "    <tr>\n",
       "      <th>user_id</th>\n",
       "      <th></th>\n",
       "      <th></th>\n",
       "      <th></th>\n",
       "      <th></th>\n",
       "      <th></th>\n",
       "      <th></th>\n",
       "      <th></th>\n",
       "      <th></th>\n",
       "      <th></th>\n",
       "      <th></th>\n",
       "      <th></th>\n",
       "      <th></th>\n",
       "      <th></th>\n",
       "      <th></th>\n",
       "      <th></th>\n",
       "      <th></th>\n",
       "      <th></th>\n",
       "      <th></th>\n",
       "      <th></th>\n",
       "      <th></th>\n",
       "      <th></th>\n",
       "    </tr>\n",
       "  </thead>\n",
       "  <tbody>\n",
       "    <tr>\n",
       "      <th>1648</th>\n",
       "      <td>NaN</td>\n",
       "      <td>NaN</td>\n",
       "      <td>NaN</td>\n",
       "      <td>NaN</td>\n",
       "      <td>NaN</td>\n",
       "      <td>NaN</td>\n",
       "      <td>NaN</td>\n",
       "      <td>NaN</td>\n",
       "      <td>NaN</td>\n",
       "      <td>NaN</td>\n",
       "      <td>...</td>\n",
       "      <td>NaN</td>\n",
       "      <td>NaN</td>\n",
       "      <td>NaN</td>\n",
       "      <td>NaN</td>\n",
       "      <td>NaN</td>\n",
       "      <td>NaN</td>\n",
       "      <td>NaN</td>\n",
       "      <td>NaN</td>\n",
       "      <td>NaN</td>\n",
       "      <td>NaN</td>\n",
       "    </tr>\n",
       "  </tbody>\n",
       "</table>\n",
       "<p>1 rows × 25 columns</p>\n",
       "</div>"
      ],
      "text/plain": [
       "         1648  5136  918  2824  3867  860  3712  2968  3525  4323  ...  3556  \\\n",
       "user_id                                                            ...         \n",
       "1648      NaN   NaN  NaN   NaN   NaN  NaN   NaN   NaN   NaN   NaN  ...   NaN   \n",
       "\n",
       "         5261  2492  5062  2486  4942  2267  4809  3853  2288  \n",
       "user_id                                                        \n",
       "1648      NaN   NaN   NaN   NaN   NaN   NaN   NaN   NaN   NaN  \n",
       "\n",
       "[1 rows x 25 columns]"
      ]
     },
     "execution_count": 5,
     "metadata": {},
     "output_type": "execute_result"
    }
   ],
   "source": [
    "correlations.head(1)"
   ]
  },
  {
   "cell_type": "markdown",
   "id": "dependent-ebony",
   "metadata": {},
   "source": [
    "### Complete the user-by-user correlations matrix. "
   ]
  },
  {
   "cell_type": "code",
   "execution_count": 23,
   "id": "encouraging-profile",
   "metadata": {},
   "outputs": [
    {
     "data": {
      "text/plain": [
       "Index(['1648', '5136', '918', '2824', '3867', '860', '3712', '2968', '3525',\n",
       "       '4323', '3617', '4360', '2756', '89', '442', '3556', '5261', '2492',\n",
       "       '5062', '2486', '4942', '2267', '4809', '3853', '2288'],\n",
       "      dtype='object')"
      ]
     },
     "execution_count": 23,
     "metadata": {},
     "output_type": "execute_result"
    }
   ],
   "source": [
    "correlations.columns"
   ]
  },
  {
   "cell_type": "code",
   "execution_count": 16,
   "id": "flexible-narrow",
   "metadata": {},
   "outputs": [
    {
     "data": {
      "text/plain": [
       "0.09277465028"
      ]
     },
     "execution_count": 16,
     "metadata": {},
     "output_type": "execute_result"
    }
   ],
   "source": [
    "correlations.loc[3525, \"1648\"]"
   ]
  },
  {
   "cell_type": "code",
   "execution_count": 18,
   "id": "billion-headline",
   "metadata": {},
   "outputs": [
    {
     "data": {
      "text/plain": [
       "(0.09277465028461011, 0.09277465028461011)"
      ]
     },
     "execution_count": 18,
     "metadata": {},
     "output_type": "execute_result"
    }
   ],
   "source": [
    "user_row.loc[3525].corr(user_row.loc[1648]), user_row.loc[1648].corr(user_row.loc[3525])"
   ]
  },
  {
   "cell_type": "code",
   "execution_count": 22,
   "id": "universal-modeling",
   "metadata": {},
   "outputs": [
    {
     "data": {
      "text/plain": [
       "1.0"
      ]
     },
     "execution_count": 22,
     "metadata": {},
     "output_type": "execute_result"
    }
   ],
   "source": [
    "user_row.loc[3525].corr(user_row.loc[3525])"
   ]
  },
  {
   "cell_type": "code",
   "execution_count": 24,
   "id": "paperback-clearing",
   "metadata": {},
   "outputs": [],
   "source": [
    "for i in range(len(user_row.index)):\n",
    "    for j in range(len(user_row.index)):\n",
    "        user_id1 = user_row.index[i]\n",
    "        user_id2 = user_row.index[j]\n",
    "        correlations.loc[user_id1, str(user_id2)] = user_row.loc[user_id1].corr(user_row.loc[user_id2])"
   ]
  },
  {
   "cell_type": "code",
   "execution_count": 26,
   "id": "desirable-begin",
   "metadata": {},
   "outputs": [
    {
     "data": {
      "text/html": [
       "<div>\n",
       "<style scoped>\n",
       "    .dataframe tbody tr th:only-of-type {\n",
       "        vertical-align: middle;\n",
       "    }\n",
       "\n",
       "    .dataframe tbody tr th {\n",
       "        vertical-align: top;\n",
       "    }\n",
       "\n",
       "    .dataframe thead th {\n",
       "        text-align: right;\n",
       "    }\n",
       "</style>\n",
       "<table border=\"1\" class=\"dataframe\">\n",
       "  <thead>\n",
       "    <tr style=\"text-align: right;\">\n",
       "      <th></th>\n",
       "      <th>1648</th>\n",
       "      <th>5136</th>\n",
       "      <th>918</th>\n",
       "      <th>2824</th>\n",
       "      <th>3867</th>\n",
       "      <th>860</th>\n",
       "      <th>3712</th>\n",
       "      <th>2968</th>\n",
       "      <th>3525</th>\n",
       "      <th>4323</th>\n",
       "      <th>...</th>\n",
       "      <th>3556</th>\n",
       "      <th>5261</th>\n",
       "      <th>2492</th>\n",
       "      <th>5062</th>\n",
       "      <th>2486</th>\n",
       "      <th>4942</th>\n",
       "      <th>2267</th>\n",
       "      <th>4809</th>\n",
       "      <th>3853</th>\n",
       "      <th>2288</th>\n",
       "    </tr>\n",
       "    <tr>\n",
       "      <th>user_id</th>\n",
       "      <th></th>\n",
       "      <th></th>\n",
       "      <th></th>\n",
       "      <th></th>\n",
       "      <th></th>\n",
       "      <th></th>\n",
       "      <th></th>\n",
       "      <th></th>\n",
       "      <th></th>\n",
       "      <th></th>\n",
       "      <th></th>\n",
       "      <th></th>\n",
       "      <th></th>\n",
       "      <th></th>\n",
       "      <th></th>\n",
       "      <th></th>\n",
       "      <th></th>\n",
       "      <th></th>\n",
       "      <th></th>\n",
       "      <th></th>\n",
       "      <th></th>\n",
       "    </tr>\n",
       "  </thead>\n",
       "  <tbody>\n",
       "    <tr>\n",
       "      <th>1648</th>\n",
       "      <td>1.000000</td>\n",
       "      <td>0.402980</td>\n",
       "      <td>-0.142206</td>\n",
       "      <td>0.517620</td>\n",
       "      <td>0.300200</td>\n",
       "      <td>0.480537</td>\n",
       "      <td>-0.312412</td>\n",
       "      <td>0.383348</td>\n",
       "      <td>0.092775</td>\n",
       "      <td>0.098191</td>\n",
       "      <td>...</td>\n",
       "      <td>-0.191988</td>\n",
       "      <td>0.493008</td>\n",
       "      <td>0.360644</td>\n",
       "      <td>0.551089</td>\n",
       "      <td>0.002544</td>\n",
       "      <td>0.116653</td>\n",
       "      <td>-0.429183</td>\n",
       "      <td>0.394371</td>\n",
       "      <td>-0.304422</td>\n",
       "      <td>0.245048</td>\n",
       "    </tr>\n",
       "    <tr>\n",
       "      <th>5136</th>\n",
       "      <td>0.402980</td>\n",
       "      <td>1.000000</td>\n",
       "      <td>0.118979</td>\n",
       "      <td>0.057916</td>\n",
       "      <td>0.341734</td>\n",
       "      <td>0.241377</td>\n",
       "      <td>0.131398</td>\n",
       "      <td>0.206695</td>\n",
       "      <td>0.360056</td>\n",
       "      <td>0.033642</td>\n",
       "      <td>...</td>\n",
       "      <td>0.488607</td>\n",
       "      <td>0.328120</td>\n",
       "      <td>0.422236</td>\n",
       "      <td>0.226635</td>\n",
       "      <td>0.305803</td>\n",
       "      <td>0.037769</td>\n",
       "      <td>0.240728</td>\n",
       "      <td>0.411676</td>\n",
       "      <td>0.189234</td>\n",
       "      <td>0.390067</td>\n",
       "    </tr>\n",
       "    <tr>\n",
       "      <th>918</th>\n",
       "      <td>-0.142206</td>\n",
       "      <td>0.118979</td>\n",
       "      <td>1.000000</td>\n",
       "      <td>-0.317063</td>\n",
       "      <td>0.294558</td>\n",
       "      <td>0.468333</td>\n",
       "      <td>0.092037</td>\n",
       "      <td>-0.045854</td>\n",
       "      <td>0.367568</td>\n",
       "      <td>-0.035394</td>\n",
       "      <td>...</td>\n",
       "      <td>0.373226</td>\n",
       "      <td>0.470972</td>\n",
       "      <td>0.069956</td>\n",
       "      <td>-0.054762</td>\n",
       "      <td>0.133812</td>\n",
       "      <td>0.015169</td>\n",
       "      <td>-0.273096</td>\n",
       "      <td>0.082528</td>\n",
       "      <td>0.667168</td>\n",
       "      <td>0.119162</td>\n",
       "    </tr>\n",
       "    <tr>\n",
       "      <th>2824</th>\n",
       "      <td>0.517620</td>\n",
       "      <td>0.057916</td>\n",
       "      <td>-0.317063</td>\n",
       "      <td>1.000000</td>\n",
       "      <td>-0.060913</td>\n",
       "      <td>-0.008066</td>\n",
       "      <td>0.462910</td>\n",
       "      <td>0.214760</td>\n",
       "      <td>0.169907</td>\n",
       "      <td>0.119350</td>\n",
       "      <td>...</td>\n",
       "      <td>-0.201275</td>\n",
       "      <td>0.228341</td>\n",
       "      <td>0.238700</td>\n",
       "      <td>0.259660</td>\n",
       "      <td>0.247097</td>\n",
       "      <td>0.149247</td>\n",
       "      <td>-0.361466</td>\n",
       "      <td>0.474974</td>\n",
       "      <td>-0.262073</td>\n",
       "      <td>0.166999</td>\n",
       "    </tr>\n",
       "    <tr>\n",
       "      <th>3867</th>\n",
       "      <td>0.300200</td>\n",
       "      <td>0.341734</td>\n",
       "      <td>0.294558</td>\n",
       "      <td>-0.060913</td>\n",
       "      <td>1.000000</td>\n",
       "      <td>0.282497</td>\n",
       "      <td>0.400275</td>\n",
       "      <td>0.264249</td>\n",
       "      <td>0.125193</td>\n",
       "      <td>-0.333602</td>\n",
       "      <td>...</td>\n",
       "      <td>0.174085</td>\n",
       "      <td>0.297977</td>\n",
       "      <td>0.476683</td>\n",
       "      <td>0.293868</td>\n",
       "      <td>0.438992</td>\n",
       "      <td>-0.162818</td>\n",
       "      <td>-0.295966</td>\n",
       "      <td>0.054518</td>\n",
       "      <td>0.464110</td>\n",
       "      <td>0.379856</td>\n",
       "    </tr>\n",
       "  </tbody>\n",
       "</table>\n",
       "<p>5 rows × 25 columns</p>\n",
       "</div>"
      ],
      "text/plain": [
       "             1648      5136       918      2824      3867       860      3712  \\\n",
       "user_id                                                                         \n",
       "1648     1.000000  0.402980 -0.142206  0.517620  0.300200  0.480537 -0.312412   \n",
       "5136     0.402980  1.000000  0.118979  0.057916  0.341734  0.241377  0.131398   \n",
       "918     -0.142206  0.118979  1.000000 -0.317063  0.294558  0.468333  0.092037   \n",
       "2824     0.517620  0.057916 -0.317063  1.000000 -0.060913 -0.008066  0.462910   \n",
       "3867     0.300200  0.341734  0.294558 -0.060913  1.000000  0.282497  0.400275   \n",
       "\n",
       "             2968      3525      4323  ...      3556      5261      2492  \\\n",
       "user_id                                ...                                 \n",
       "1648     0.383348  0.092775  0.098191  ... -0.191988  0.493008  0.360644   \n",
       "5136     0.206695  0.360056  0.033642  ...  0.488607  0.328120  0.422236   \n",
       "918     -0.045854  0.367568 -0.035394  ...  0.373226  0.470972  0.069956   \n",
       "2824     0.214760  0.169907  0.119350  ... -0.201275  0.228341  0.238700   \n",
       "3867     0.264249  0.125193 -0.333602  ...  0.174085  0.297977  0.476683   \n",
       "\n",
       "             5062      2486      4942      2267      4809      3853      2288  \n",
       "user_id                                                                        \n",
       "1648     0.551089  0.002544  0.116653 -0.429183  0.394371 -0.304422  0.245048  \n",
       "5136     0.226635  0.305803  0.037769  0.240728  0.411676  0.189234  0.390067  \n",
       "918     -0.054762  0.133812  0.015169 -0.273096  0.082528  0.667168  0.119162  \n",
       "2824     0.259660  0.247097  0.149247 -0.361466  0.474974 -0.262073  0.166999  \n",
       "3867     0.293868  0.438992 -0.162818 -0.295966  0.054518  0.464110  0.379856  \n",
       "\n",
       "[5 rows x 25 columns]"
      ]
     },
     "execution_count": 26,
     "metadata": {},
     "output_type": "execute_result"
    }
   ],
   "source": [
    "correlations.head()"
   ]
  },
  {
   "cell_type": "markdown",
   "id": "alike-phoenix",
   "metadata": {},
   "source": [
    "### dentify the top 5 neighbors (the users with the 5 largest, positive correlations) for users 3867 and 89"
   ]
  },
  {
   "cell_type": "code",
   "execution_count": 35,
   "id": "global-conducting",
   "metadata": {},
   "outputs": [
    {
     "data": {
      "text/plain": [
       "3712    1.000000\n",
       "2824    0.462910\n",
       "3867    0.400275\n",
       "5062    0.247693\n",
       "442     0.227130\n",
       "3853    0.193660\n",
       "Name: 3712, dtype: float64"
      ]
     },
     "execution_count": 35,
     "metadata": {},
     "output_type": "execute_result"
    }
   ],
   "source": [
    "correlations.loc[3712].sort_values(ascending=False)[:6]"
   ]
  },
  {
   "cell_type": "code",
   "execution_count": 33,
   "id": "decimal-partition",
   "metadata": {},
   "outputs": [
    {
     "data": {
      "text/plain": [
       "3867    1.000000\n",
       "2492    0.476683\n",
       "3853    0.464110\n",
       "2486    0.438992\n",
       "3712    0.400275\n",
       "2288    0.379856\n",
       "Name: 3867, dtype: float64"
      ]
     },
     "execution_count": 33,
     "metadata": {},
     "output_type": "execute_result"
    }
   ],
   "source": [
    "correlations.loc[3867].sort_values(ascending=False)[:6]"
   ]
  },
  {
   "cell_type": "code",
   "execution_count": 34,
   "id": "transsexual-pantyhose",
   "metadata": {},
   "outputs": [
    {
     "data": {
      "text/plain": [
       "89      1.000000\n",
       "4809    0.668516\n",
       "5136    0.562449\n",
       "860     0.539066\n",
       "5062    0.525990\n",
       "3525    0.475495\n",
       "Name: 89, dtype: float64"
      ]
     },
     "execution_count": 34,
     "metadata": {},
     "output_type": "execute_result"
    }
   ],
   "source": [
    "correlations.loc[89].sort_values(ascending=False)[:6]"
   ]
  },
  {
   "cell_type": "markdown",
   "id": "fitted-alert",
   "metadata": {},
   "source": [
    "### compute the predictions for each movie for users 3867 and 89\n",
    "Create a new worksheet in your spreadsheet, and use it to compute the predictions for each movie for users 3867 and 89 by taking the correlation-weighted average of the ratings of the top-five neighbors (for each target user) for each movie. The formal formula for correlation-weighted average is \n",
    "$\\frac{\\sum_{n=1}^5 r_n w_n}{\\sum_{n=1}^5 w_n}$\n",
    "\n",
    "Remember, you will need to make sure that your weight for each contributed rating is the user-user correlation when that neighbor has rated the movie, but 0 when the neighbor has not rated the movie). In a real recommender system, we’d be excluding movies the user has already rated, but do not do this here."
   ]
  },
  {
   "cell_type": "code",
   "execution_count": 182,
   "id": "tracked-tumor",
   "metadata": {},
   "outputs": [],
   "source": [
    "predictions = pd.DataFrame()"
   ]
  },
  {
   "cell_type": "code",
   "execution_count": 188,
   "id": "geological-midnight",
   "metadata": {},
   "outputs": [],
   "source": [
    "# user 3712, 3525, 3867, 89\n",
    "users = [3712, 3525, 3867, 89]"
   ]
  },
  {
   "cell_type": "code",
   "execution_count": 189,
   "id": "integrated-winter",
   "metadata": {},
   "outputs": [],
   "source": [
    "for user in users:\n",
    "    for movie in movie_row.index:\n",
    "        RW = 0\n",
    "        W = 0\n",
    "        for neighborId in correlations.loc[user].sort_values(ascending=False)[1:6].index:\n",
    "            r = user_row.loc[int(neighborId), movie]\n",
    "            w = 0 if np.isnan(r) else correlations.loc[user, neighborId]\n",
    "            rw = r * w if w > 0 else 0    # IMPORTANT\n",
    "            RW += rw\n",
    "            W += w\n",
    "        predictions.loc[user, movie] = RW / W if W != 0 else np.nan"
   ]
  },
  {
   "cell_type": "code",
   "execution_count": 190,
   "id": "demanding-folder",
   "metadata": {},
   "outputs": [
    {
     "data": {
      "text/html": [
       "<div>\n",
       "<style scoped>\n",
       "    .dataframe tbody tr th:only-of-type {\n",
       "        vertical-align: middle;\n",
       "    }\n",
       "\n",
       "    .dataframe tbody tr th {\n",
       "        vertical-align: top;\n",
       "    }\n",
       "\n",
       "    .dataframe thead th {\n",
       "        text-align: right;\n",
       "    }\n",
       "</style>\n",
       "<table border=\"1\" class=\"dataframe\">\n",
       "  <thead>\n",
       "    <tr style=\"text-align: right;\">\n",
       "      <th></th>\n",
       "      <th>11: Star Wars: Episode IV - A New Hope (1977)</th>\n",
       "      <th>12: Finding Nemo (2003)</th>\n",
       "      <th>13: Forrest Gump (1994)</th>\n",
       "      <th>14: American Beauty (1999)</th>\n",
       "      <th>22: Pirates of the Caribbean: The Curse of the Black Pearl (2003)</th>\n",
       "      <th>24: Kill Bill: Vol. 1 (2003)</th>\n",
       "      <th>38: Eternal Sunshine of the Spotless Mind (2004)</th>\n",
       "      <th>63: Twelve Monkeys (a.k.a. 12 Monkeys) (1995)</th>\n",
       "      <th>77: Memento (2000)</th>\n",
       "      <th>85: Raiders of the Lost Ark (Indiana Jones and the Raiders of the Lost Ark) (1981)</th>\n",
       "      <th>...</th>\n",
       "      <th>8467: Dumb &amp; Dumber (1994)</th>\n",
       "      <th>8587: The Lion King (1994)</th>\n",
       "      <th>9331: Clear and Present Danger (1994)</th>\n",
       "      <th>9741: Unbreakable (2000)</th>\n",
       "      <th>9802: The Rock (1996)</th>\n",
       "      <th>9806: The Incredibles (2004)</th>\n",
       "      <th>10020: Beauty and the Beast (1991)</th>\n",
       "      <th>36657: X-Men (2000)</th>\n",
       "      <th>36658: X2: X-Men United (2003)</th>\n",
       "      <th>36955: True Lies (1994)</th>\n",
       "    </tr>\n",
       "  </thead>\n",
       "  <tbody>\n",
       "    <tr>\n",
       "      <th>3712</th>\n",
       "      <td>4.003233</td>\n",
       "      <td>4.000000</td>\n",
       "      <td>4.302242</td>\n",
       "      <td>4.260827</td>\n",
       "      <td>3.663728</td>\n",
       "      <td>4.013394</td>\n",
       "      <td>3.949931</td>\n",
       "      <td>2.920458</td>\n",
       "      <td>4.494735</td>\n",
       "      <td>4.399779</td>\n",
       "      <td>...</td>\n",
       "      <td>2.146785</td>\n",
       "      <td>3.579401</td>\n",
       "      <td>NaN</td>\n",
       "      <td>NaN</td>\n",
       "      <td>2.000000</td>\n",
       "      <td>3.191131</td>\n",
       "      <td>3.235477</td>\n",
       "      <td>3.818799</td>\n",
       "      <td>3.681008</td>\n",
       "      <td>3.000000</td>\n",
       "    </tr>\n",
       "    <tr>\n",
       "      <th>3867</th>\n",
       "      <td>4.020581</td>\n",
       "      <td>3.347734</td>\n",
       "      <td>3.749478</td>\n",
       "      <td>3.804172</td>\n",
       "      <td>3.345121</td>\n",
       "      <td>4.172620</td>\n",
       "      <td>4.027814</td>\n",
       "      <td>4.091132</td>\n",
       "      <td>4.472487</td>\n",
       "      <td>4.179766</td>\n",
       "      <td>...</td>\n",
       "      <td>1.813320</td>\n",
       "      <td>2.322035</td>\n",
       "      <td>1.801453</td>\n",
       "      <td>3.0</td>\n",
       "      <td>3.471149</td>\n",
       "      <td>4.028247</td>\n",
       "      <td>3.280872</td>\n",
       "      <td>3.555468</td>\n",
       "      <td>3.296959</td>\n",
       "      <td>3.166017</td>\n",
       "    </tr>\n",
       "    <tr>\n",
       "      <th>89</th>\n",
       "      <td>4.133725</td>\n",
       "      <td>4.267451</td>\n",
       "      <td>4.601470</td>\n",
       "      <td>3.861582</td>\n",
       "      <td>3.980830</td>\n",
       "      <td>3.898067</td>\n",
       "      <td>4.551396</td>\n",
       "      <td>3.492586</td>\n",
       "      <td>4.329285</td>\n",
       "      <td>4.359637</td>\n",
       "      <td>...</td>\n",
       "      <td>3.197648</td>\n",
       "      <td>4.505207</td>\n",
       "      <td>3.500000</td>\n",
       "      <td>3.5</td>\n",
       "      <td>3.031329</td>\n",
       "      <td>4.045618</td>\n",
       "      <td>3.726119</td>\n",
       "      <td>4.179819</td>\n",
       "      <td>3.804122</td>\n",
       "      <td>3.265665</td>\n",
       "    </tr>\n",
       "    <tr>\n",
       "      <th>3525</th>\n",
       "      <td>4.265056</td>\n",
       "      <td>4.467274</td>\n",
       "      <td>4.587088</td>\n",
       "      <td>4.000000</td>\n",
       "      <td>3.331064</td>\n",
       "      <td>4.544119</td>\n",
       "      <td>5.000000</td>\n",
       "      <td>3.518119</td>\n",
       "      <td>4.743519</td>\n",
       "      <td>4.430809</td>\n",
       "      <td>...</td>\n",
       "      <td>2.144209</td>\n",
       "      <td>4.756592</td>\n",
       "      <td>NaN</td>\n",
       "      <td>NaN</td>\n",
       "      <td>3.224335</td>\n",
       "      <td>3.839576</td>\n",
       "      <td>4.136144</td>\n",
       "      <td>3.930809</td>\n",
       "      <td>3.715405</td>\n",
       "      <td>3.500000</td>\n",
       "    </tr>\n",
       "  </tbody>\n",
       "</table>\n",
       "<p>4 rows × 100 columns</p>\n",
       "</div>"
      ],
      "text/plain": [
       "      11: Star Wars: Episode IV - A New Hope (1977)  12: Finding Nemo (2003)  \\\n",
       "3712                                       4.003233                 4.000000   \n",
       "3867                                       4.020581                 3.347734   \n",
       "89                                         4.133725                 4.267451   \n",
       "3525                                       4.265056                 4.467274   \n",
       "\n",
       "      13: Forrest Gump (1994)  14: American Beauty (1999)  \\\n",
       "3712                 4.302242                    4.260827   \n",
       "3867                 3.749478                    3.804172   \n",
       "89                   4.601470                    3.861582   \n",
       "3525                 4.587088                    4.000000   \n",
       "\n",
       "      22: Pirates of the Caribbean: The Curse of the Black Pearl (2003)  \\\n",
       "3712                                           3.663728                   \n",
       "3867                                           3.345121                   \n",
       "89                                             3.980830                   \n",
       "3525                                           3.331064                   \n",
       "\n",
       "      24: Kill Bill: Vol. 1 (2003)  \\\n",
       "3712                      4.013394   \n",
       "3867                      4.172620   \n",
       "89                        3.898067   \n",
       "3525                      4.544119   \n",
       "\n",
       "      38: Eternal Sunshine of the Spotless Mind (2004)  \\\n",
       "3712                                          3.949931   \n",
       "3867                                          4.027814   \n",
       "89                                            4.551396   \n",
       "3525                                          5.000000   \n",
       "\n",
       "      63: Twelve Monkeys (a.k.a. 12 Monkeys) (1995)  77: Memento (2000)  \\\n",
       "3712                                       2.920458            4.494735   \n",
       "3867                                       4.091132            4.472487   \n",
       "89                                         3.492586            4.329285   \n",
       "3525                                       3.518119            4.743519   \n",
       "\n",
       "      85: Raiders of the Lost Ark (Indiana Jones and the Raiders of the Lost Ark) (1981)  \\\n",
       "3712                                           4.399779                                    \n",
       "3867                                           4.179766                                    \n",
       "89                                             4.359637                                    \n",
       "3525                                           4.430809                                    \n",
       "\n",
       "      ...  8467: Dumb & Dumber (1994)  8587: The Lion King (1994)  \\\n",
       "3712  ...                    2.146785                    3.579401   \n",
       "3867  ...                    1.813320                    2.322035   \n",
       "89    ...                    3.197648                    4.505207   \n",
       "3525  ...                    2.144209                    4.756592   \n",
       "\n",
       "      9331: Clear and Present Danger (1994)  9741: Unbreakable (2000)  \\\n",
       "3712                                    NaN                       NaN   \n",
       "3867                               1.801453                       3.0   \n",
       "89                                 3.500000                       3.5   \n",
       "3525                                    NaN                       NaN   \n",
       "\n",
       "      9802: The Rock (1996)  9806: The Incredibles (2004)  \\\n",
       "3712               2.000000                      3.191131   \n",
       "3867               3.471149                      4.028247   \n",
       "89                 3.031329                      4.045618   \n",
       "3525               3.224335                      3.839576   \n",
       "\n",
       "      10020: Beauty and the Beast (1991)  36657: X-Men (2000)  \\\n",
       "3712                            3.235477             3.818799   \n",
       "3867                            3.280872             3.555468   \n",
       "89                              3.726119             4.179819   \n",
       "3525                            4.136144             3.930809   \n",
       "\n",
       "      36658: X2: X-Men United (2003)  36955: True Lies (1994)  \n",
       "3712                        3.681008                 3.000000  \n",
       "3867                        3.296959                 3.166017  \n",
       "89                          3.804122                 3.265665  \n",
       "3525                        3.715405                 3.500000  \n",
       "\n",
       "[4 rows x 100 columns]"
      ]
     },
     "execution_count": 190,
     "metadata": {},
     "output_type": "execute_result"
    }
   ],
   "source": [
    "predictions"
   ]
  },
  {
   "cell_type": "code",
   "execution_count": 191,
   "id": "monetary-insert",
   "metadata": {},
   "outputs": [
    {
     "data": {
      "text/plain": [
       "641: Requiem for a Dream (2000)    5.000000\n",
       "603: The Matrix (1999)             4.855924\n",
       "105: Back to the Future (1985)     4.739173\n",
       "Name: 3712, dtype: float64"
      ]
     },
     "execution_count": 191,
     "metadata": {},
     "output_type": "execute_result"
    }
   ],
   "source": [
    "predictions.loc[3712].sort_values(ascending=False)[:3]"
   ]
  },
  {
   "cell_type": "code",
   "execution_count": 192,
   "id": "overall-utility",
   "metadata": {},
   "outputs": [
    {
     "data": {
      "text/plain": [
       "238: The Godfather (1972)                           5.0\n",
       "194: Amelie (2001)                                  5.0\n",
       "38: Eternal Sunshine of the Spotless Mind (2004)    5.0\n",
       "Name: 3525, dtype: float64"
      ]
     },
     "execution_count": 192,
     "metadata": {},
     "output_type": "execute_result"
    }
   ],
   "source": [
    "predictions.loc[3525].sort_values(ascending=False)[:3]"
   ]
  },
  {
   "cell_type": "code",
   "execution_count": 193,
   "id": "younger-institute",
   "metadata": {},
   "outputs": [
    {
     "data": {
      "text/plain": [
       "1891: Star Wars: Episode V - The Empire Strikes Back (1980)    4.760291\n",
       "155: The Dark Knight (2008)                                    4.551454\n",
       "122: The Lord of the Rings: The Return of the King (2003)      4.507637\n",
       "Name: 3867, dtype: float64"
      ]
     },
     "execution_count": 193,
     "metadata": {},
     "output_type": "execute_result"
    }
   ],
   "source": [
    "predictions.loc[3867].sort_values(ascending=False)[:3]"
   ]
  },
  {
   "cell_type": "code",
   "execution_count": 194,
   "id": "exempt-exhibition",
   "metadata": {},
   "outputs": [
    {
     "data": {
      "text/plain": [
       "238: The Godfather (1972)               4.894124\n",
       "278: The Shawshank Redemption (1994)    4.882194\n",
       "807: Seven (a.k.a. Se7en) (1995)        4.774093\n",
       "Name: 89, dtype: float64"
      ]
     },
     "execution_count": 194,
     "metadata": {},
     "output_type": "execute_result"
    }
   ],
   "source": [
    "predictions.loc[89].sort_values(ascending=False)[:3]"
   ]
  },
  {
   "cell_type": "markdown",
   "id": "exposed-dating",
   "metadata": {},
   "source": [
    "## Part 2 - Normalization"
   ]
  },
  {
   "cell_type": "markdown",
   "id": "assured-ballot",
   "metadata": {},
   "source": [
    "use the normalization formula\n",
    "\n",
    "$\\bar{r_u} + \\frac{\\sum_{n=1}^5 (r_n - \\bar{r_n} ) w_n}{\\sum_{n=1}^5 w_n}$\n",
    "\n",
    "$\\bar r_u$: target user's mean rating (they might be a positive / negative person)\n",
    "\n",
    "$r_n$: n-th neighbor user's rating on this item\n",
    "\n",
    "$\\bar r_n$: n-th neighbor user's mean rating (they might be a positive / negative person)\n",
    "\n",
    "$w_n$: weights (correlation score between target user $u$ and neighbor user $u$ calculated previously)\n",
    "\n"
   ]
  },
  {
   "cell_type": "code",
   "execution_count": 197,
   "id": "elementary-dylan",
   "metadata": {},
   "outputs": [],
   "source": [
    "normalized_predictions = pd.DataFrame()\n",
    "# user 3712, 3525, 3867, 89\n",
    "users = [3712, 3525, 3867, 89]"
   ]
  },
  {
   "cell_type": "code",
   "execution_count": 201,
   "id": "employed-sessions",
   "metadata": {},
   "outputs": [
    {
     "data": {
      "text/plain": [
       "4.5"
      ]
     },
     "execution_count": 201,
     "metadata": {},
     "output_type": "execute_result"
    }
   ],
   "source": [
    "user_row.loc[3712].mean()"
   ]
  },
  {
   "cell_type": "code",
   "execution_count": 203,
   "id": "rough-dealer",
   "metadata": {},
   "outputs": [],
   "source": [
    "for user in users:\n",
    "    ru_mean = user_row.loc[user].mean()\n",
    "    for movie in movie_row.index:\n",
    "        RW = 0\n",
    "        W = 0\n",
    "        for neighborId in correlations.loc[user].sort_values(ascending=False)[1:6].index:\n",
    "            rn_mean = user_row.loc[int(neighborId)].mean()\n",
    "            \n",
    "            r = user_row.loc[int(neighborId), movie]\n",
    "            w = 0 if np.isnan(r) else correlations.loc[user, neighborId]\n",
    "            rw = (r - rn_mean) * w if w > 0 else 0    # IMPORTANT\n",
    "            \n",
    "            RW += rw\n",
    "            W += w\n",
    "        normalized_predictions.loc[user, movie] = ru_mean + RW / W if W != 0 else np.nan"
   ]
  },
  {
   "cell_type": "code",
   "execution_count": 204,
   "id": "stable-laugh",
   "metadata": {},
   "outputs": [
    {
     "data": {
      "text/html": [
       "<div>\n",
       "<style scoped>\n",
       "    .dataframe tbody tr th:only-of-type {\n",
       "        vertical-align: middle;\n",
       "    }\n",
       "\n",
       "    .dataframe tbody tr th {\n",
       "        vertical-align: top;\n",
       "    }\n",
       "\n",
       "    .dataframe thead th {\n",
       "        text-align: right;\n",
       "    }\n",
       "</style>\n",
       "<table border=\"1\" class=\"dataframe\">\n",
       "  <thead>\n",
       "    <tr style=\"text-align: right;\">\n",
       "      <th></th>\n",
       "      <th>11: Star Wars: Episode IV - A New Hope (1977)</th>\n",
       "      <th>12: Finding Nemo (2003)</th>\n",
       "      <th>13: Forrest Gump (1994)</th>\n",
       "      <th>14: American Beauty (1999)</th>\n",
       "      <th>22: Pirates of the Caribbean: The Curse of the Black Pearl (2003)</th>\n",
       "      <th>24: Kill Bill: Vol. 1 (2003)</th>\n",
       "      <th>38: Eternal Sunshine of the Spotless Mind (2004)</th>\n",
       "      <th>63: Twelve Monkeys (a.k.a. 12 Monkeys) (1995)</th>\n",
       "      <th>77: Memento (2000)</th>\n",
       "      <th>85: Raiders of the Lost Ark (Indiana Jones and the Raiders of the Lost Ark) (1981)</th>\n",
       "      <th>...</th>\n",
       "      <th>8467: Dumb &amp; Dumber (1994)</th>\n",
       "      <th>8587: The Lion King (1994)</th>\n",
       "      <th>9331: Clear and Present Danger (1994)</th>\n",
       "      <th>9741: Unbreakable (2000)</th>\n",
       "      <th>9802: The Rock (1996)</th>\n",
       "      <th>9806: The Incredibles (2004)</th>\n",
       "      <th>10020: Beauty and the Beast (1991)</th>\n",
       "      <th>36657: X-Men (2000)</th>\n",
       "      <th>36658: X2: X-Men United (2003)</th>\n",
       "      <th>36955: True Lies (1994)</th>\n",
       "    </tr>\n",
       "  </thead>\n",
       "  <tbody>\n",
       "    <tr>\n",
       "      <th>3712</th>\n",
       "      <td>4.676902</td>\n",
       "      <td>4.760429</td>\n",
       "      <td>4.991885</td>\n",
       "      <td>5.022238</td>\n",
       "      <td>4.337398</td>\n",
       "      <td>4.703037</td>\n",
       "      <td>4.722522</td>\n",
       "      <td>3.774435</td>\n",
       "      <td>5.131727</td>\n",
       "      <td>5.197040</td>\n",
       "      <td>...</td>\n",
       "      <td>2.907214</td>\n",
       "      <td>4.262009</td>\n",
       "      <td>NaN</td>\n",
       "      <td>NaN</td>\n",
       "      <td>2.900000</td>\n",
       "      <td>3.951560</td>\n",
       "      <td>3.995906</td>\n",
       "      <td>4.616060</td>\n",
       "      <td>4.541747</td>\n",
       "      <td>3.838462</td>\n",
       "    </tr>\n",
       "    <tr>\n",
       "      <th>3525</th>\n",
       "      <td>3.895077</td>\n",
       "      <td>4.097295</td>\n",
       "      <td>4.217108</td>\n",
       "      <td>3.878656</td>\n",
       "      <td>3.054934</td>\n",
       "      <td>4.303624</td>\n",
       "      <td>4.315856</td>\n",
       "      <td>3.352345</td>\n",
       "      <td>4.295977</td>\n",
       "      <td>4.309465</td>\n",
       "      <td>...</td>\n",
       "      <td>2.076118</td>\n",
       "      <td>4.480462</td>\n",
       "      <td>NaN</td>\n",
       "      <td>NaN</td>\n",
       "      <td>3.292415</td>\n",
       "      <td>3.563446</td>\n",
       "      <td>4.068053</td>\n",
       "      <td>3.809465</td>\n",
       "      <td>3.594061</td>\n",
       "      <td>3.546875</td>\n",
       "    </tr>\n",
       "    <tr>\n",
       "      <th>3867</th>\n",
       "      <td>4.505800</td>\n",
       "      <td>3.477161</td>\n",
       "      <td>4.054794</td>\n",
       "      <td>3.886764</td>\n",
       "      <td>3.773592</td>\n",
       "      <td>4.477936</td>\n",
       "      <td>4.383088</td>\n",
       "      <td>4.396449</td>\n",
       "      <td>4.777803</td>\n",
       "      <td>4.485082</td>\n",
       "      <td>...</td>\n",
       "      <td>1.906731</td>\n",
       "      <td>2.807254</td>\n",
       "      <td>2.286672</td>\n",
       "      <td>3.771538</td>\n",
       "      <td>3.600575</td>\n",
       "      <td>4.157673</td>\n",
       "      <td>3.766091</td>\n",
       "      <td>3.648820</td>\n",
       "      <td>3.426386</td>\n",
       "      <td>3.248610</td>\n",
       "    </tr>\n",
       "    <tr>\n",
       "      <th>89</th>\n",
       "      <td>4.686099</td>\n",
       "      <td>4.819825</td>\n",
       "      <td>5.049074</td>\n",
       "      <td>4.240812</td>\n",
       "      <td>4.428435</td>\n",
       "      <td>4.450441</td>\n",
       "      <td>4.930626</td>\n",
       "      <td>4.051834</td>\n",
       "      <td>4.977640</td>\n",
       "      <td>4.850521</td>\n",
       "      <td>...</td>\n",
       "      <td>3.750022</td>\n",
       "      <td>4.933098</td>\n",
       "      <td>4.183894</td>\n",
       "      <td>4.183894</td>\n",
       "      <td>3.740130</td>\n",
       "      <td>4.493223</td>\n",
       "      <td>4.173724</td>\n",
       "      <td>4.670702</td>\n",
       "      <td>4.136335</td>\n",
       "      <td>3.974465</td>\n",
       "    </tr>\n",
       "  </tbody>\n",
       "</table>\n",
       "<p>4 rows × 100 columns</p>\n",
       "</div>"
      ],
      "text/plain": [
       "      11: Star Wars: Episode IV - A New Hope (1977)  12: Finding Nemo (2003)  \\\n",
       "3712                                       4.676902                 4.760429   \n",
       "3525                                       3.895077                 4.097295   \n",
       "3867                                       4.505800                 3.477161   \n",
       "89                                         4.686099                 4.819825   \n",
       "\n",
       "      13: Forrest Gump (1994)  14: American Beauty (1999)  \\\n",
       "3712                 4.991885                    5.022238   \n",
       "3525                 4.217108                    3.878656   \n",
       "3867                 4.054794                    3.886764   \n",
       "89                   5.049074                    4.240812   \n",
       "\n",
       "      22: Pirates of the Caribbean: The Curse of the Black Pearl (2003)  \\\n",
       "3712                                           4.337398                   \n",
       "3525                                           3.054934                   \n",
       "3867                                           3.773592                   \n",
       "89                                             4.428435                   \n",
       "\n",
       "      24: Kill Bill: Vol. 1 (2003)  \\\n",
       "3712                      4.703037   \n",
       "3525                      4.303624   \n",
       "3867                      4.477936   \n",
       "89                        4.450441   \n",
       "\n",
       "      38: Eternal Sunshine of the Spotless Mind (2004)  \\\n",
       "3712                                          4.722522   \n",
       "3525                                          4.315856   \n",
       "3867                                          4.383088   \n",
       "89                                            4.930626   \n",
       "\n",
       "      63: Twelve Monkeys (a.k.a. 12 Monkeys) (1995)  77: Memento (2000)  \\\n",
       "3712                                       3.774435            5.131727   \n",
       "3525                                       3.352345            4.295977   \n",
       "3867                                       4.396449            4.777803   \n",
       "89                                         4.051834            4.977640   \n",
       "\n",
       "      85: Raiders of the Lost Ark (Indiana Jones and the Raiders of the Lost Ark) (1981)  \\\n",
       "3712                                           5.197040                                    \n",
       "3525                                           4.309465                                    \n",
       "3867                                           4.485082                                    \n",
       "89                                             4.850521                                    \n",
       "\n",
       "      ...  8467: Dumb & Dumber (1994)  8587: The Lion King (1994)  \\\n",
       "3712  ...                    2.907214                    4.262009   \n",
       "3525  ...                    2.076118                    4.480462   \n",
       "3867  ...                    1.906731                    2.807254   \n",
       "89    ...                    3.750022                    4.933098   \n",
       "\n",
       "      9331: Clear and Present Danger (1994)  9741: Unbreakable (2000)  \\\n",
       "3712                                    NaN                       NaN   \n",
       "3525                                    NaN                       NaN   \n",
       "3867                               2.286672                  3.771538   \n",
       "89                                 4.183894                  4.183894   \n",
       "\n",
       "      9802: The Rock (1996)  9806: The Incredibles (2004)  \\\n",
       "3712               2.900000                      3.951560   \n",
       "3525               3.292415                      3.563446   \n",
       "3867               3.600575                      4.157673   \n",
       "89                 3.740130                      4.493223   \n",
       "\n",
       "      10020: Beauty and the Beast (1991)  36657: X-Men (2000)  \\\n",
       "3712                            3.995906             4.616060   \n",
       "3525                            4.068053             3.809465   \n",
       "3867                            3.766091             3.648820   \n",
       "89                              4.173724             4.670702   \n",
       "\n",
       "      36658: X2: X-Men United (2003)  36955: True Lies (1994)  \n",
       "3712                        4.541747                 3.838462  \n",
       "3525                        3.594061                 3.546875  \n",
       "3867                        3.426386                 3.248610  \n",
       "89                          4.136335                 3.974465  \n",
       "\n",
       "[4 rows x 100 columns]"
      ]
     },
     "execution_count": 204,
     "metadata": {},
     "output_type": "execute_result"
    }
   ],
   "source": [
    "normalized_predictions"
   ]
  },
  {
   "cell_type": "code",
   "execution_count": 205,
   "id": "consolidated-contest",
   "metadata": {},
   "outputs": [
    {
     "data": {
      "text/plain": [
       "641: Requiem for a Dream (2000)    5.900000\n",
       "603: The Matrix (1999)             5.545567\n",
       "105: Back to the Future (1985)     5.500585\n",
       "Name: 3712, dtype: float64"
      ]
     },
     "execution_count": 205,
     "metadata": {},
     "output_type": "execute_result"
    }
   ],
   "source": [
    "normalized_predictions.loc[3712].sort_values(ascending=False)[:3]"
   ]
  },
  {
   "cell_type": "code",
   "execution_count": 206,
   "id": "friendly-vintage",
   "metadata": {},
   "outputs": [
    {
     "data": {
      "text/plain": [
       "238: The Godfather (1972)                4.759504\n",
       "424: Schindler's List (1993)             4.663251\n",
       "134: O Brother Where Art Thou? (2000)    4.585337\n",
       "Name: 3525, dtype: float64"
      ]
     },
     "execution_count": 206,
     "metadata": {},
     "output_type": "execute_result"
    }
   ],
   "source": [
    "normalized_predictions.loc[3525].sort_values(ascending=False)[:3]"
   ]
  },
  {
   "cell_type": "code",
   "execution_count": 207,
   "id": "floral-italian",
   "metadata": {},
   "outputs": [
    {
     "data": {
      "text/plain": [
       "1891: Star Wars: Episode V - The Empire Strikes Back (1980)    5.245509\n",
       "155: The Dark Knight (2008)                                    4.856770\n",
       "77: Memento (2000)                                             4.777803\n",
       "Name: 3867, dtype: float64"
      ]
     },
     "execution_count": 207,
     "metadata": {},
     "output_type": "execute_result"
    }
   ],
   "source": [
    "normalized_predictions.loc[3867].sort_values(ascending=False)[:3]"
   ]
  },
  {
   "cell_type": "code",
   "execution_count": 208,
   "id": "extraordinary-dover",
   "metadata": {},
   "outputs": [
    {
     "data": {
      "text/plain": [
       "238: The Godfather (1972)               5.322015\n",
       "278: The Shawshank Redemption (1994)    5.261424\n",
       "275: Fargo (1996)                       5.241111\n",
       "Name: 89, dtype: float64"
      ]
     },
     "execution_count": 208,
     "metadata": {},
     "output_type": "execute_result"
    }
   ],
   "source": [
    "normalized_predictions.loc[89].sort_values(ascending=False)[:3]"
   ]
  },
  {
   "cell_type": "code",
   "execution_count": null,
   "id": "determined-alias",
   "metadata": {},
   "outputs": [],
   "source": []
  }
 ],
 "metadata": {
  "kernelspec": {
   "display_name": "Python 3",
   "language": "python",
   "name": "python3"
  },
  "language_info": {
   "codemirror_mode": {
    "name": "ipython",
    "version": 3
   },
   "file_extension": ".py",
   "mimetype": "text/x-python",
   "name": "python",
   "nbconvert_exporter": "python",
   "pygments_lexer": "ipython3",
   "version": "3.8.2"
  }
 },
 "nbformat": 4,
 "nbformat_minor": 5
}
